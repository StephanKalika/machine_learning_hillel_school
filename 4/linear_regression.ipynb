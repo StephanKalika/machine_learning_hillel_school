{
 "cells": [
  {
   "cell_type": "code",
   "execution_count": null,
   "id": "75df6f2a-b780-4caa-8d4a-3eaf96a2477d",
   "metadata": {},
   "outputs": [],
   "source": [
    "import numpy as np\n",
    "import pandas as pd\n",
    "import seaborn as sns\n",
    "import matplotlib.pyplot as plt\n",
    "from sklearn.metrics import mean_squared_error\n",
    "from sklearn.linear_model import LinearRegression\n",
    "from sklearn.datasets import fetch_california_housing\n",
    "from sklearn.model_selection import train_test_split, cross_val_score"
   ]
  },
  {
   "cell_type": "code",
   "execution_count": null,
   "id": "4405bb85-a455-4237-a319-d54e7ddd7fd7",
   "metadata": {},
   "outputs": [],
   "source": [
    "def load_data():\n",
    "    \"\"\"Load the California housing dataset.\"\"\"\n",
    "    housing = fetch_california_housing()\n",
    "    X = housing.data    # features\n",
    "    y = housing.target  # target variable\n",
    "    feature_names = housing.feature_names\n",
    "    return X, y, feature_names"
   ]
  },
  {
   "cell_type": "code",
   "execution_count": null,
   "id": "83720fb5-707f-4e5d-88bf-9ab1c1eb6197",
   "metadata": {},
   "outputs": [],
   "source": [
    "def train_model(X_train, y_train):\n",
    "    \"\"\"Train a linear regression model.\"\"\"\n",
    "    # TODO: initialize the linear regression model (LinearRegression()) and fit it\n",
    "    ...\n",
    "    ...\n",
    "    return model"
   ]
  },
  {
   "cell_type": "code",
   "execution_count": null,
   "id": "dcbbe2da-941a-41f2-ae2c-3d7231c6b48d",
   "metadata": {},
   "outputs": [],
   "source": [
    "def evaluate_model(model, X_test, y_test):\n",
    "    \"\"\"Evaluate the trained model on test data.\"\"\"\n",
    "    # TODO: evaluate the model on the test data and calculate the MSE\n",
    "    ...\n",
    "    ...\n",
    "    print(\"Mean Squared Error:\", mse)\n",
    "    return mse"
   ]
  },
  {
   "cell_type": "code",
   "execution_count": null,
   "id": "753777f6-a254-48ed-a6ca-83e94294760d",
   "metadata": {},
   "outputs": [],
   "source": [
    "def perform_cross_validation(X_train, y_train):\n",
    "    \"\"\"Perform cross-validation to evaluate the model.\"\"\"\n",
    "    # TODO: initialize a linear regression model (LinearRegression()) and train it using cross-validation (cross_val_score)\n",
    "    # Please, use `cv=5` for cross-validation\n",
    "    ...\n",
    "    ...\n",
    "    print(\"Cross-Validation Scores:\", cv_scores)              # [score1, score2, ..., score5]\n",
    "    print(\"Mean Cross-Validation Score:\", np.mean(cv_scores)) # mean_score\n",
    "    return cv_scores"
   ]
  },
  {
   "cell_type": "code",
   "execution_count": null,
   "id": "f2db60f1-429e-47d4-b44b-7b6cd4531764",
   "metadata": {},
   "outputs": [],
   "source": [
    "def main():\n",
    "    # Load the data\n",
    "    X, y, feature_names = load_data()\n",
    "    df = pd.DataFrame(X, columns=feature_names)\n",
    "    df[\"Target\"] = y\n",
    "    \n",
    "    # Simple EDA\n",
    "    print(\"Basic Statistics:\")\n",
    "    print(df.describe())\n",
    "    \n",
    "    # Correlation Matrix\n",
    "    plt.figure(figsize=(10, 8))\n",
    "    sns.heatmap(df.corr(), annot=True, cmap='coolwarm', fmt=\".2f\")\n",
    "    plt.title(\"Correlation Matrix\")\n",
    "    plt.show()\n",
    "    \n",
    "    # Split the data into training and test sets\n",
    "    # TODO: split the data into training and test sets\n",
    "    ...\n",
    "    \n",
    "    # Train the model\n",
    "    model = train_model(X_train, y_train)\n",
    "    \n",
    "    # Evaluate the model\n",
    "    mse = evaluate_model(model, X_test, y_test)\n",
    "    \n",
    "    # Perform cross-validation\n",
    "    cv_scores = perform_cross_validation(X_train, y_train)"
   ]
  },
  {
   "cell_type": "code",
   "execution_count": null,
   "id": "d7610dde-d38c-41a8-8340-263f2f1e978c",
   "metadata": {},
   "outputs": [],
   "source": [
    "main()"
   ]
  },
  {
   "cell_type": "code",
   "execution_count": null,
   "id": "49b1ea5b-ad39-4ca0-ad3b-73d93bfd835c",
   "metadata": {},
   "outputs": [],
   "source": []
  }
 ],
 "metadata": {
  "kernelspec": {
   "display_name": "Python 3 (ipykernel)",
   "language": "python",
   "name": "python3"
  },
  "language_info": {
   "codemirror_mode": {
    "name": "ipython",
    "version": 3
   },
   "file_extension": ".py",
   "mimetype": "text/x-python",
   "name": "python",
   "nbconvert_exporter": "python",
   "pygments_lexer": "ipython3",
   "version": "3.8.10"
  }
 },
 "nbformat": 4,
 "nbformat_minor": 5
}
